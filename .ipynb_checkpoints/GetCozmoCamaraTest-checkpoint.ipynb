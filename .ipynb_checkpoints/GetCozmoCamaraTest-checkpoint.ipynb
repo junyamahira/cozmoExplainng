{
 "cells": [
  {
   "cell_type": "markdown",
   "metadata": {},
   "source": [
    "## Cozmoのカメラから画像取得\n",
    "#### import文"
   ]
  },
  {
   "cell_type": "code",
   "execution_count": 1,
   "metadata": {
    "collapsed": true
   },
   "outputs": [],
   "source": [
    "import asyncio\n",
    "import cozmo\n",
    "from PIL import Image, ImageDraw\n",
    "from datetime import datetime"
   ]
  },
  {
   "cell_type": "code",
   "execution_count": null,
   "metadata": {
    "collapsed": true
   },
   "outputs": [],
   "source": [
    "def on_img(event, *, image:cozmo.world.CameraImage, **kw):\n",
    "  print(image.raw_image)\n",
    "\n",
    "  fpass = '/Users/c0116278ba/cozmo_sdk_examples_1.4.5/data/'\n",
    "  fname = datetime.now().strftime(\"%H_%M_%S_%f\")\n",
    "  image.raw_image.save(fpass + fname + \".png\")\n",
    "\n",
    "\n",
    "async def cozmo_program(robot: cozmo.robot.Robot):\n",
    "  robot.camera.image_stream_enabled = True\n",
    "  robot.camera.color_image_enabled = True\n",
    "  robot.add_event_handler(cozmo.world.EvtNewCameraImage, on_img)\n",
    "  robot.set_head_angle(cozmo.util.Angle(degrees=0))\n",
    "\n",
    "  while True:\n",
    "    await asyncio.sleep(1)\n",
    "\n",
    "cozmo.robot.Robot.drive_off_charger_on_connect = False\n",
    "cozmo.run_program(cozmo_program)\n"
   ]
  }
 ],
 "metadata": {
  "kernelspec": {
   "display_name": "Python 3",
   "language": "python",
   "name": "python3"
  },
  "language_info": {
   "codemirror_mode": {
    "name": "ipython",
    "version": 3
   },
   "file_extension": ".py",
   "mimetype": "text/x-python",
   "name": "python",
   "nbconvert_exporter": "python",
   "pygments_lexer": "ipython3",
   "version": "3.6.0"
  }
 },
 "nbformat": 4,
 "nbformat_minor": 2
}
